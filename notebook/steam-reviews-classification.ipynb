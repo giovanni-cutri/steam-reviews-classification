{
 "cells": [
  {
   "cell_type": "markdown",
   "id": "b5869195-9a52-4f83-b5d8-855429556c21",
   "metadata": {},
   "source": [
    "**Steam Reviews Classification**\n",
    "\n",
    "**Steam** is arguably the most relevant gaming platforms available online, attracting dozens of millions of users every month and offering more than 35,000 games through its store. Players can leave a review for any game they own, deciding to recommend it or not.\n",
    "\n",
    "By working on a dataset which collects Steam reviews for eleven different games, available [here](https://github.com/mulhod/steam_reviews/tree/master), we are going to perform a binary classification task, building a model able to discriminate between \"recommended\" and \"not recommended\" ratings given to games based on the review written by the author. The statistical tool we will use is logistic regression."
   ]
  },
  {
   "cell_type": "code",
   "execution_count": 1,
   "id": "86e56287-4909-44ca-b768-2b8c483dfb5a",
   "metadata": {},
   "outputs": [],
   "source": [
    "import pandas as pd\n",
    "import os\n",
    "import json\n",
    "import string"
   ]
  },
  {
   "cell_type": "markdown",
   "id": "bedd52fe-9d8e-4096-8c26-06cf6b7513e0",
   "metadata": {},
   "source": [
    "Let's start by importing our data from the files."
   ]
  },
  {
   "cell_type": "code",
   "execution_count": 2,
   "id": "00db326e-e783-492f-8b66-c6bfc25a9705",
   "metadata": {},
   "outputs": [],
   "source": [
    "# data is in JSON Lines format, so we need a few steps in order to import it \n",
    "\n",
    "data_folder = os.path.join(os.getcwd(), \"data\")\n",
    "data_files_names = os.listdir(data_folder)\n",
    "\n",
    "data = []\n",
    "\n",
    "for data_file_name in data_files_names:\n",
    "    file = os.path.join(os.getcwd(), \"data\", data_file_name)\n",
    "    with open(file, \"r\", encoding='utf-8') as f:\n",
    "        lst = [json.loads(line) for line in f]\n",
    "    data.extend(lst)\n",
    "\n",
    "df = pd.DataFrame.from_records(data)"
   ]
  },
  {
   "cell_type": "markdown",
   "id": "9db78c1a-4f60-45f9-963b-6719ac0019e7",
   "metadata": {},
   "source": [
    "Let's see the first entry of the dataframe as an example:"
   ]
  },
  {
   "cell_type": "code",
   "execution_count": 3,
   "id": "c812c4bd-33a6-40e4-b08f-06d9f321642d",
   "metadata": {},
   "outputs": [
    {
     "data": {
      "text/html": [
       "<div>\n",
       "<style scoped>\n",
       "    .dataframe tbody tr th:only-of-type {\n",
       "        vertical-align: middle;\n",
       "    }\n",
       "\n",
       "    .dataframe tbody tr th {\n",
       "        vertical-align: top;\n",
       "    }\n",
       "\n",
       "    .dataframe thead th {\n",
       "        text-align: right;\n",
       "    }\n",
       "</style>\n",
       "<table border=\"1\" class=\"dataframe\">\n",
       "  <thead>\n",
       "    <tr style=\"text-align: right;\">\n",
       "      <th></th>\n",
       "      <th>total_game_hours_last_two_weeks</th>\n",
       "      <th>num_groups</th>\n",
       "      <th>orig_url</th>\n",
       "      <th>num_badges</th>\n",
       "      <th>review_url</th>\n",
       "      <th>num_found_funny</th>\n",
       "      <th>review</th>\n",
       "      <th>date_updated</th>\n",
       "      <th>num_workshop_items</th>\n",
       "      <th>date_posted</th>\n",
       "      <th>...</th>\n",
       "      <th>num_found_unhelpful</th>\n",
       "      <th>total_game_hours</th>\n",
       "      <th>username</th>\n",
       "      <th>num_guides</th>\n",
       "      <th>rating</th>\n",
       "      <th>num_friends</th>\n",
       "      <th>num_screenshots</th>\n",
       "      <th>num_comments</th>\n",
       "      <th>num_reviews</th>\n",
       "      <th>num_games_owned</th>\n",
       "    </tr>\n",
       "  </thead>\n",
       "  <tbody>\n",
       "    <tr>\n",
       "      <th>0</th>\n",
       "      <td>58.7</td>\n",
       "      <td>NaN</td>\n",
       "      <td>http://steamcommunity.com/app/107410/homeconte...</td>\n",
       "      <td>NaN</td>\n",
       "      <td>http://steamcommunity.com/id/thisisthefallout/...</td>\n",
       "      <td>1</td>\n",
       "      <td>My first game on A3 brought me the most horrif...</td>\n",
       "      <td>May 3, 2015, 2:28AM</td>\n",
       "      <td>0</td>\n",
       "      <td>Oct 31, 2014, 7:00AM</td>\n",
       "      <td>...</td>\n",
       "      <td>253</td>\n",
       "      <td>580.3</td>\n",
       "      <td>King Pootis</td>\n",
       "      <td>0</td>\n",
       "      <td>Recommended</td>\n",
       "      <td>NaN</td>\n",
       "      <td>0</td>\n",
       "      <td>70</td>\n",
       "      <td>0</td>\n",
       "      <td>0</td>\n",
       "    </tr>\n",
       "  </tbody>\n",
       "</table>\n",
       "<p>1 rows × 27 columns</p>\n",
       "</div>"
      ],
      "text/plain": [
       "   total_game_hours_last_two_weeks  num_groups  \\\n",
       "0                             58.7         NaN   \n",
       "\n",
       "                                            orig_url  num_badges  \\\n",
       "0  http://steamcommunity.com/app/107410/homeconte...         NaN   \n",
       "\n",
       "                                          review_url  num_found_funny  \\\n",
       "0  http://steamcommunity.com/id/thisisthefallout/...                1   \n",
       "\n",
       "                                              review         date_updated  \\\n",
       "0  My first game on A3 brought me the most horrif...  May 3, 2015, 2:28AM   \n",
       "\n",
       "   num_workshop_items           date_posted  ...  num_found_unhelpful  \\\n",
       "0                   0  Oct 31, 2014, 7:00AM  ...                  253   \n",
       "\n",
       "   total_game_hours     username num_guides       rating num_friends  \\\n",
       "0             580.3  King Pootis          0  Recommended         NaN   \n",
       "\n",
       "   num_screenshots  num_comments  num_reviews num_games_owned  \n",
       "0                0            70            0               0  \n",
       "\n",
       "[1 rows x 27 columns]"
      ]
     },
     "execution_count": 3,
     "metadata": {},
     "output_type": "execute_result"
    }
   ],
   "source": [
    "df.head(1)"
   ]
  },
  {
   "cell_type": "markdown",
   "id": "f3433485-ad25-47c3-acea-fbc7762ce5e6",
   "metadata": {},
   "source": [
    "And this is the first review, along with the rating:"
   ]
  },
  {
   "cell_type": "code",
   "execution_count": 4,
   "id": "43b2302d-7f58-4084-87e2-e395454ec887",
   "metadata": {},
   "outputs": [
    {
     "data": {
      "text/plain": [
       "array(['My first game on A3 brought me the most horrific experience I\\'ve ever had in any game, ever. We\\'re on our way to the objective, a small dump east of a town occupied by enemy forces. I\\'m leading a team of 4 men. We come to a crossroad and I sprint across, telling my men to hold back. I cross a few more times, trying to get a response from any snipers. Nothing. I run, my LMG gunner runs, my medic runs. But I kept my Marksman on the other side to make sure we\\'d make it across. Anybody seen Full Metal Jacket all the way through? Remember the sniper scene? The marksman takes a round in the leg as we\\'re running and goes down. He then takes two more in the chest. The kid who was playing had some mad acting skills, he played it up to 11 here. He screams as he\\'s being shot. Crawling, drenched in his own blood. \"SARGE? YOU AIN\\'T LEAVING ME OUT HERE LIKE THIS, RIGHT? I-I WANNA GO WITH YOU GUYS! C\\'MON SARGE, H-HELP ME! C\\'MON! PLEASE DON\\'T LEAVE ME!\" he died after that. I cried and he respawned. 11/10, would recommend getting.',\n",
       "       'Recommended'], dtype=object)"
      ]
     },
     "execution_count": 4,
     "metadata": {},
     "output_type": "execute_result"
    }
   ],
   "source": [
    "df[[\"review\", \"rating\"]].values[0]"
   ]
  },
  {
   "cell_type": "markdown",
   "id": "1483cca1-d055-425e-badd-33b51de3e1e0",
   "metadata": {},
   "source": [
    "Now that we have got the data, we need to perform some Natural Language Processing (NLP) on the reviews, so that we can manipulate them correctly.\n",
    "We need to remove superfluous elements of the text, such as punctuation and stopwords, tokenize it and finally lemmatize the words, transforming them to their dictionary form (lemma).\n",
    "These tasks can be accomplished through the NLTK (Natural Language Toolkit) library."
   ]
  },
  {
   "cell_type": "code",
   "execution_count": 5,
   "id": "f27ebcf4-e064-4207-bd96-0d90e41d5afb",
   "metadata": {},
   "outputs": [],
   "source": [
    "from nltk.corpus import stopwords\n",
    "from nltk.tokenize import word_tokenize\n",
    "from nltk.stem import WordNetLemmatizer"
   ]
  },
  {
   "cell_type": "code",
   "execution_count": 6,
   "id": "ffa1b667-c306-46f0-9c9f-cf86569cf463",
   "metadata": {},
   "outputs": [],
   "source": [
    "stop_words = set(stopwords.words(\"english\"))\n",
    "lemmatizer = WordNetLemmatizer()\n",
    "lemmatized_reviews = []\n",
    "\n",
    "for review in df[\"review\"]:\n",
    "    review = review.translate(str.maketrans('', '', string.punctuation)).lower()\n",
    "    words_in_review = word_tokenize(review)\n",
    "    filtered_list = []\n",
    "    for word in words_in_review:\n",
    "        if word not in stop_words:\n",
    "            filtered_list.append(word)\n",
    "    lemmatized_words = [lemmatizer.lemmatize(word) for word in filtered_list]\n",
    "    lemmatized_reviews.append(\" \".join(lemmatized_words))\n",
    "\n",
    "df[\"lemmatized_reviews\"] = lemmatized_reviews"
   ]
  },
  {
   "cell_type": "markdown",
   "id": "9b18fba3-f1ac-4594-9ab5-f152d54542d2",
   "metadata": {},
   "source": [
    "Let's have a look at the first review after it has been lemmatized:"
   ]
  },
  {
   "cell_type": "code",
   "execution_count": 7,
   "id": "b0824070-006b-4916-af26-44f26dca1540",
   "metadata": {},
   "outputs": [
    {
     "data": {
      "text/plain": [
       "'first game a3 brought horrific experience ive ever game ever way objective small dump east town occupied enemy force im leading team 4 men come crossroad sprint across telling men hold back cross time trying get response sniper nothing run lmg gunner run medic run kept marksman side make sure wed make across anybody seen full metal jacket way remember sniper scene marksman take round leg running go take two chest kid playing mad acting skill played 11 scream he shot crawling drenched blood sarge aint leaving like right ii wan na go guy cmon sarge hhelp cmon please dont leave died cried respawned 1110 would recommend getting'"
      ]
     },
     "execution_count": 7,
     "metadata": {},
     "output_type": "execute_result"
    }
   ],
   "source": [
    "df[\"lemmatized_reviews\"].values[0]"
   ]
  },
  {
   "cell_type": "markdown",
   "id": "3f8abd9d-23a6-478c-9c7e-60183af09aff",
   "metadata": {},
   "source": [
    "At this point, we are going to transform our text documents into vectors by using a vectorizer. Additionally, words will be weighted through the TF-IDF method, assuring that we are measuring the real importance of each word in our corpus."
   ]
  },
  {
   "cell_type": "code",
   "execution_count": 8,
   "id": "8deecd5a-4a79-44af-a273-5d750d4f1822",
   "metadata": {},
   "outputs": [],
   "source": [
    "from sklearn.feature_extraction.text import TfidfVectorizer"
   ]
  },
  {
   "cell_type": "code",
   "execution_count": 9,
   "id": "18bd1466-f889-43a1-be87-5a4fd1c09c7f",
   "metadata": {},
   "outputs": [],
   "source": [
    "vectorizer = TfidfVectorizer()\n",
    "X = vectorizer.fit_transform(df[\"lemmatized_reviews\"])\n",
    "y = df[\"rating\"]"
   ]
  },
  {
   "cell_type": "markdown",
   "id": "0c0ecf64-0357-46a3-8516-395c376fb9b2",
   "metadata": {},
   "source": [
    "Now we have got our regressor (the lemmatized reviews) in the form of a vector and the dependent variable as well.\n",
    "We can split our data into a training set and a test set (with a ratio of 80% / 20%) and then creating our model."
   ]
  },
  {
   "cell_type": "code",
   "execution_count": 10,
   "id": "b5d413ec-7e66-4954-98b8-6a4022144a2d",
   "metadata": {},
   "outputs": [],
   "source": [
    "from sklearn.model_selection import train_test_split\n",
    "from sklearn.linear_model import LogisticRegression"
   ]
  },
  {
   "cell_type": "code",
   "execution_count": 11,
   "id": "a56a8978-58e5-4e4f-b007-8eb4548510a5",
   "metadata": {},
   "outputs": [],
   "source": [
    "X_train, X_test, y_train, y_test = train_test_split(X, y, test_size=0.2, random_state=0)\n",
    "classifier = LogisticRegression()\n",
    "classifier.fit(X_train, y_train);"
   ]
  },
  {
   "cell_type": "markdown",
   "id": "155700a4-ab16-4d2c-ba4b-6d119362d166",
   "metadata": {},
   "source": [
    "Finally, we obtain the predicted values for the response variable and evaluate the accuracy of our model through a few measures."
   ]
  },
  {
   "cell_type": "code",
   "execution_count": 12,
   "id": "14b67275-01b8-44a8-8d7f-52ff2631c351",
   "metadata": {},
   "outputs": [],
   "source": [
    "y_pred = classifier.predict(X_test)"
   ]
  },
  {
   "cell_type": "code",
   "execution_count": 13,
   "id": "1cacd5a7-1157-4d48-92e0-90bf08b93838",
   "metadata": {},
   "outputs": [],
   "source": [
    "from sklearn.metrics import accuracy_score"
   ]
  },
  {
   "cell_type": "code",
   "execution_count": 14,
   "id": "8fd63f86-19ce-47bc-bd95-aefdc5b1f90d",
   "metadata": {},
   "outputs": [
    {
     "name": "stdout",
     "output_type": "stream",
     "text": [
      "Accuracy score: 0.9290659617321249\n"
     ]
    }
   ],
   "source": [
    "accuracy = accuracy_score(y_test, y_pred)\n",
    "print(\"Accuracy score:\", accuracy)"
   ]
  },
  {
   "cell_type": "markdown",
   "id": "ad9c10bd-869a-40bb-ab1f-0f9e4e24b711",
   "metadata": {},
   "source": [
    "This number represents the ratio of successfully classified samples to the total samples available.\n",
    "It's a value very close to 1, which means our model is pretty accurate in predicting the final rating given to a game based on the corresponding review."
   ]
  },
  {
   "cell_type": "markdown",
   "id": "743d0a48-c2d3-4f5c-b7ae-7b5cbaf8b493",
   "metadata": {},
   "source": [
    "We are concluding our analysis by calculating the **confusion matrix**: each element (i, j) of this matrix is the amount of times our model has classified the \"true\" class i as the class j. Therefore, starting from the top left corner and proceeding clockwise, we are going to get: true negatives, false positives, true positive, false negatives."
   ]
  },
  {
   "cell_type": "code",
   "execution_count": 15,
   "id": "24bfbdee-7e50-4144-8686-3eaae2f6d012",
   "metadata": {},
   "outputs": [
    {
     "data": {
      "image/png": "[encoded data removed]",
      "text/plain": [
       "<Figure size 640x480 with 2 Axes>"
      ]
     },
     "metadata": {},
     "output_type": "display_data"
    }
   ],
   "source": [
    "import matplotlib.pyplot as plt\n",
    "from sklearn.metrics import confusion_matrix, ConfusionMatrixDisplay\n",
    "\n",
    "cm = confusion_matrix(y_test, y_pred)\n",
    "\n",
    "disp = ConfusionMatrixDisplay(confusion_matrix = cm, display_labels = df[\"rating\"].unique())\n",
    "disp.plot()\n",
    "plt.show()"
   ]
  }
 ],
 "metadata": {
  "kernelspec": {
   "display_name": "Python 3 (ipykernel)",
   "language": "python",
   "name": "python3"
  },
  "language_info": {
   "codemirror_mode": {
    "name": "ipython",
    "version": 3
   },
   "file_extension": ".py",
   "mimetype": "text/x-python",
   "name": "python",
   "nbconvert_exporter": "python",
   "pygments_lexer": "ipython3",
   "version": "3.11.3"
  }
 },
 "nbformat": 4,
 "nbformat_minor": 5
}
